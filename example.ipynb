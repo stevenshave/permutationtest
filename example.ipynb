{
 "cells": [
  {
   "cell_type": "code",
   "execution_count": 16,
   "metadata": {},
   "outputs": [
    {
     "name": "stdout",
     "output_type": "stream",
     "text": [
      "Sampling 10000 times from 29462227291176635718126 possible label combinations\n"
     ]
    },
    {
     "name": "stderr",
     "output_type": "stream",
     "text": [
      "100%|█████████▉| 9999/10000 [00:00<00:00, 18934.55it/s]\n"
     ]
    },
    {
     "data": {
      "text/plain": [
       "0.0137"
      ]
     },
     "execution_count": 16,
     "metadata": {},
     "output_type": "execute_result"
    }
   ],
   "source": [
    "from src.permutationtest import permutation_test\n",
    "import numpy as np\n",
    "np_rng=np.random.default_rng(7)\n",
    "treatment=np_rng.multivariate_normal(mean=(0.7,0.7), cov=np.eye(2), size=20)\n",
    "vehicle=np_rng.multivariate_normal(mean=(0,0), cov=np.eye(2), size=100)\n",
    "permutation_test(treatment, vehicle, verbose=True)"
   ]
  }
 ],
 "metadata": {
  "kernelspec": {
   "display_name": "maturin",
   "language": "python",
   "name": "python3"
  },
  "language_info": {
   "codemirror_mode": {
    "name": "ipython",
    "version": 3
   },
   "file_extension": ".py",
   "mimetype": "text/x-python",
   "name": "python",
   "nbconvert_exporter": "python",
   "pygments_lexer": "ipython3",
   "version": "3.11.5"
  }
 },
 "nbformat": 4,
 "nbformat_minor": 2
}
